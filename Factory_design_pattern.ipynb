{
  "nbformat": 4,
  "nbformat_minor": 0,
  "metadata": {
    "colab": {
      "provenance": [],
      "authorship_tag": "ABX9TyOEuj578UXnqYjaIRg34OqZ",
      "include_colab_link": true
    },
    "kernelspec": {
      "name": "python3",
      "display_name": "Python 3"
    },
    "language_info": {
      "name": "python"
    }
  },
  "cells": [
    {
      "cell_type": "markdown",
      "metadata": {
        "id": "view-in-github",
        "colab_type": "text"
      },
      "source": [
        "<a href=\"https://colab.research.google.com/github/Mohamed-ux-beep/Factory_design_pattern/blob/main/Factory_design_pattern.ipynb\" target=\"_parent\"><img src=\"https://colab.research.google.com/assets/colab-badge.svg\" alt=\"Open In Colab\"/></a>"
      ]
    },
    {
      "cell_type": "code",
      "execution_count": 1,
      "metadata": {
        "id": "elR52OBSr5uO"
      },
      "outputs": [],
      "source": [
        "# This is a personal notebook to explain the Factory design pattern\n",
        "\n",
        "# import the libraries\n",
        "from abc import ABCMeta, abstractmethod"
      ]
    },
    {
      "cell_type": "code",
      "source": [
        "# Create the main class\n",
        "\n",
        "class IProduct(metaclass=ABCMeta):\n",
        "    \"an hypothetical class interface(Product)\"\n",
        "\n",
        "    @staticmethod\n",
        "    @abstractmethod\n",
        "    def create_object():\n",
        "      \"An abstract interface method\"\n",
        "\n",
        "# subclasses\n",
        "class ConcreteProductA(IProduct):\n",
        "  \"A concrete class that implements the IProduct interface\"\n",
        "\n",
        "  def __init__(self):\n",
        "    self.name = \"ConcreteProductA\"\n",
        "\n",
        "  def create_object(self):\n",
        "    return self\n",
        "\n",
        "class ConcreteProductB(IProduct):\n",
        "  \"A concrete class that implements the IProduct interface\"\n",
        "\n",
        "  def __init__(self):\n",
        "    self.name = \"ConcreteProductB\"\n",
        "\n",
        "  def create_object(self):\n",
        "    return self\n",
        "\n",
        "class ConcreteProductC(IProduct):\n",
        "  \"A concrete class that implements the IProduct interface\"\n",
        "\n",
        "  def __init__(self):\n",
        "    self.name = \"ConcreteProductC\"\n",
        "\n",
        "  def create_object(self):\n",
        "    return self\n",
        "\n",
        "\n",
        "# The factory class\n",
        "class Creator:\n",
        "  \"The Factory class\"\n",
        "\n",
        "  @staticmethod\n",
        "  def create_object(some_property):\n",
        "    \"A static method to get a concrete product\"\n",
        "\n",
        "    if some_property == 'a':\n",
        "      return ConcreteProductA()\n",
        "\n",
        "    if some_property == 'b':\n",
        "      return ConcreteProductB()\n",
        "\n",
        "    if some_property == 'c':\n",
        "      return ConcreteProductC()\n",
        "\n",
        "    return None"
      ],
      "metadata": {
        "id": "zqJRjfNnsOaX"
      },
      "execution_count": 6,
      "outputs": []
    },
    {
      "cell_type": "code",
      "source": [
        "PRODUCT = Creator.create_object('b')\n",
        "print(PRODUCT.name)"
      ],
      "metadata": {
        "colab": {
          "base_uri": "https://localhost:8080/"
        },
        "id": "P5YJqXJRvCt7",
        "outputId": "e6282ac1-b337-4c12-f7ea-8d6d4f1b5c02"
      },
      "execution_count": 7,
      "outputs": [
        {
          "output_type": "stream",
          "name": "stdout",
          "text": [
            "ConcreteProductB\n"
          ]
        }
      ]
    }
  ]
}